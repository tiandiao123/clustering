{
 "cells": [
  {
   "cell_type": "code",
   "execution_count": 3,
   "metadata": {
    "collapsed": true
   },
   "outputs": [],
   "source": [
    "import scipy.io as sio\n",
    "import numpy as np"
   ]
  },
  {
   "cell_type": "code",
   "execution_count": 4,
   "metadata": {
    "collapsed": true
   },
   "outputs": [],
   "source": [
    "import scipy"
   ]
  },
  {
   "cell_type": "code",
   "execution_count": null,
   "metadata": {
    "collapsed": true
   },
   "outputs": [],
   "source": [
    "#mat_contents = sio.loadmat('XRMBsJW11.mat')"
   ]
  },
  {
   "cell_type": "code",
   "execution_count": 5,
   "metadata": {
    "collapsed": false
   },
   "outputs": [],
   "source": [
    "M_T=np.array([[4,2,14,3,13,7],[5,1,4,7,0,4],[1,9,8,12,5,1]])"
   ]
  },
  {
   "cell_type": "code",
   "execution_count": 6,
   "metadata": {
    "collapsed": true
   },
   "outputs": [],
   "source": [
    "M=np.transpose(M_T)"
   ]
  },
  {
   "cell_type": "code",
   "execution_count": 7,
   "metadata": {
    "collapsed": false
   },
   "outputs": [
    {
     "data": {
      "text/plain": [
       "array([[ 4,  5,  1],\n",
       "       [ 2,  1,  9],\n",
       "       [14,  4,  8],\n",
       "       [ 3,  7, 12],\n",
       "       [13,  0,  5],\n",
       "       [ 7,  4,  1]])"
      ]
     },
     "execution_count": 7,
     "metadata": {},
     "output_type": "execute_result"
    }
   ],
   "source": [
    "M\n"
   ]
  },
  {
   "cell_type": "code",
   "execution_count": 11,
   "metadata": {
    "collapsed": false
   },
   "outputs": [],
   "source": [
    "mean=[1,2,3]\n",
    "I=[[1,0,0],[0,1,0],[0,0,1]]\n",
    "Z=np.random.multivariate_normal(mean,I,50000)"
   ]
  },
  {
   "cell_type": "code",
   "execution_count": 12,
   "metadata": {
    "collapsed": false
   },
   "outputs": [],
   "source": [
    "X=np.dot(M,np.transpose(Z))"
   ]
  },
  {
   "cell_type": "code",
   "execution_count": 13,
   "metadata": {
    "collapsed": false
   },
   "outputs": [
    {
     "data": {
      "text/plain": [
       "array([[ 13.66414891,  25.80833811,  12.58414132, ...,  12.11884018,\n",
       "         10.36049953,  15.96553655],\n",
       "       [ 34.27164673,  46.89811552,  30.81581227, ...,  18.53546447,\n",
       "         38.48620771,  45.55721468],\n",
       "       [ 49.51806438,  79.65605867,  38.34273548, ...,  16.22831998,\n",
       "         26.59152094,  54.21752283],\n",
       "       [ 51.85298308,  76.16131039,  49.59487691, ...,  39.1133015 ,\n",
       "         63.10155165,  70.5861698 ],\n",
       "       [ 33.95678281,  54.90572156,  22.50481509, ...,   0.81227878,\n",
       "          6.27383891,  32.58135988],\n",
       "       [ 16.55981167,  31.14844365,  12.6785356 , ...,   7.50628833,\n",
       "          4.70076202,  16.34189222]])"
      ]
     },
     "execution_count": 13,
     "metadata": {},
     "output_type": "execute_result"
    }
   ],
   "source": [
    "X"
   ]
  },
  {
   "cell_type": "code",
   "execution_count": 14,
   "metadata": {
    "collapsed": false
   },
   "outputs": [
    {
     "data": {
      "text/plain": [
       "array([10000, 20000, 30000, 40000, 50000, 60000])"
      ]
     },
     "execution_count": 14,
     "metadata": {},
     "output_type": "execute_result"
    }
   ],
   "source": [
    "np.array([1,2,3,4,5,6])*10000"
   ]
  },
  {
   "cell_type": "code",
   "execution_count": 17,
   "metadata": {
    "collapsed": false
   },
   "outputs": [],
   "source": [
    "X[1,:]=[1,2,3,4,5]*10000"
   ]
  },
  {
   "cell_type": "code",
   "execution_count": 18,
   "metadata": {
    "collapsed": false
   },
   "outputs": [
    {
     "data": {
      "text/plain": [
       "array([[ 13.66414891,  25.80833811,  12.58414132, ...,  12.11884018,\n",
       "         10.36049953,  15.96553655],\n",
       "       [  1.        ,   2.        ,   3.        , ...,   3.        ,\n",
       "          4.        ,   5.        ],\n",
       "       [ 49.51806438,  79.65605867,  38.34273548, ...,  16.22831998,\n",
       "         26.59152094,  54.21752283],\n",
       "       [ 51.85298308,  76.16131039,  49.59487691, ...,  39.1133015 ,\n",
       "         63.10155165,  70.5861698 ],\n",
       "       [ 33.95678281,  54.90572156,  22.50481509, ...,   0.81227878,\n",
       "          6.27383891,  32.58135988],\n",
       "       [ 16.55981167,  31.14844365,  12.6785356 , ...,   7.50628833,\n",
       "          4.70076202,  16.34189222]])"
      ]
     },
     "execution_count": 18,
     "metadata": {},
     "output_type": "execute_result"
    }
   ],
   "source": [
    "X"
   ]
  },
  {
   "cell_type": "code",
   "execution_count": 19,
   "metadata": {
    "collapsed": true
   },
   "outputs": [],
   "source": [
    "s,v,d=np.linalg.svd(X,full_matrices=False)"
   ]
  },
  {
   "cell_type": "code",
   "execution_count": 21,
   "metadata": {
    "collapsed": false
   },
   "outputs": [],
   "source": [
    "top_s_3=s[:,0:3]"
   ]
  },
  {
   "cell_type": "code",
   "execution_count": 22,
   "metadata": {
    "collapsed": false
   },
   "outputs": [
    {
     "data": {
      "text/plain": [
       "array([[-0.21360843,  0.00268817,  0.69938945],\n",
       "       [-0.03451755, -0.03407038,  0.00211698],\n",
       "       [-0.58601904,  0.32837489, -0.07560913],\n",
       "       [-0.64990105, -0.70595021, -0.15308385],\n",
       "       [-0.36567808,  0.58032502, -0.3824319 ],\n",
       "       [-0.23166749,  0.23634527,  0.57917559]])"
      ]
     },
     "execution_count": 22,
     "metadata": {},
     "output_type": "execute_result"
    }
   ],
   "source": [
    "top_s_3"
   ]
  },
  {
   "cell_type": "code",
   "execution_count": null,
   "metadata": {
    "collapsed": true
   },
   "outputs": [],
   "source": [
    "Z1=np.random.multivariate_normal(mean,I,50000)\n",
    "Z2=np.random.multivariate_normal(mean,I,50000)\n",
    "Z3=np.random.multivariate_normal(mean,I,50000)\n",
    "X1=np.dot(M,np.transpose(Z1))"
   ]
  }
 ],
 "metadata": {
  "kernelspec": {
   "display_name": "Python [Root]",
   "language": "python",
   "name": "Python [Root]"
  },
  "language_info": {
   "codemirror_mode": {
    "name": "ipython",
    "version": 2
   },
   "file_extension": ".py",
   "mimetype": "text/x-python",
   "name": "python",
   "nbconvert_exporter": "python",
   "pygments_lexer": "ipython2",
   "version": "2.7.11"
  }
 },
 "nbformat": 4,
 "nbformat_minor": 0
}
